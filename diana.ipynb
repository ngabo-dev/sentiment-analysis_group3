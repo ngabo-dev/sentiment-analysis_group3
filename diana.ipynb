{
  "nbformat": 4,
  "nbformat_minor": 0,
  "metadata": {
    "colab": {
      "provenance": [],
      "authorship_tag": "ABX9TyMTshvr5mY/PCssYgyRB6Xp",
      "include_colab_link": true
    },
    "kernelspec": {
      "name": "python3",
      "display_name": "Python 3"
    },
    "language_info": {
      "name": "python"
    }
  },
  "cells": [
    {
      "cell_type": "markdown",
      "metadata": {
        "id": "view-in-github",
        "colab_type": "text"
      },
      "source": [
        "<a href=\"https://colab.research.google.com/github/ngabo-dev/sentiment-analysis_group3/blob/main/diana.ipynb\" target=\"_parent\"><img src=\"https://colab.research.google.com/assets/colab-badge.svg\" alt=\"Open In Colab\"/></a>"
      ]
    },
    {
      "cell_type": "code",
      "execution_count": 2,
      "metadata": {
        "id": "IX6BsFLA8z2z"
      },
      "outputs": [],
      "source": [
        "# Amazon Reviews Sentiment Analysis: SVM vs 1D CNN\n",
        "# -------------------------------------------------\n",
        "# Works directly from processed_dataset.csv\n",
        "# TF-IDF features for SVM, padded sequences + embeddings for CNN\n",
        "\n",
        "# -----------------------------\n",
        "# 1️⃣ Imports\n",
        "# -----------------------------\n",
        "import numpy as np\n",
        "import pandas as pd\n",
        "import matplotlib.pyplot as plt\n",
        "import seaborn as sns\n",
        "from scipy import sparse\n",
        "\n",
        "# Sklearn\n",
        "from sklearn.model_selection import train_test_split\n",
        "from sklearn.feature_extraction.text import TfidfVectorizer\n",
        "from sklearn.svm import SVC\n",
        "from sklearn.metrics import accuracy_score, classification_report, confusion_matrix\n",
        "\n",
        "# TensorFlow/Keras\n",
        "import tensorflow as tf\n",
        "from tensorflow.keras.models import Model\n",
        "from tensorflow.keras.layers import Input, Embedding, Conv1D, GlobalMaxPooling1D, Dense, Dropout\n",
        "from tensorflow.keras.preprocessing.text import Tokenizer\n",
        "from tensorflow.keras.preprocessing.sequence import pad_sequences"
      ]
    },
    {
      "cell_type": "code",
      "source": [
        "# -----------------------------\n",
        "# 2️⃣ Load Data\n",
        "# -----------------------------\n",
        "df = pd.read_csv(\"processed_dataset.csv\")\n",
        "print(\"Dataset loaded:\", df.shape)\n",
        "df.head()"
      ],
      "metadata": {
        "colab": {
          "base_uri": "https://localhost:8080/",
          "height": 224
        },
        "id": "jtfnPhbnFV4t",
        "outputId": "46f77cc3-a93a-4919-e59a-2033a7203618"
      },
      "execution_count": 5,
      "outputs": [
        {
          "output_type": "stream",
          "name": "stdout",
          "text": [
            "Dataset loaded: (71204, 3)\n"
          ]
        },
        {
          "output_type": "execute_result",
          "data": {
            "text/plain": [
              "                                                text  \\\n",
              "0  This is by far my favorite K cup. It is a stro...   \n",
              "1  OK, I am now READDICTED to SUGAR!  This stuff ...   \n",
              "2  I don't understand how anyone with a pair of t...   \n",
              "3  a favorite.....Tetley tea's British decaffeina...   \n",
              "4  Something about the flavor just isn't right.  ...   \n",
              "\n",
              "                                                proc  label  \n",
              "0  far favorite cup strong flavorful harsh coffee...      1  \n",
              "1  readdicted sugar stuff much much better silk c...      1  \n",
              "2  understand anyone pair taste bud rub together ...      0  \n",
              "3  favorite tetley tea british decaffeinated blen...      1  \n",
              "4  something flavor right purchased consumed lot ...      0  "
            ],
            "text/html": [
              "\n",
              "  <div id=\"df-5d252e5f-87c8-40d1-91b0-ebf3de9433e1\" class=\"colab-df-container\">\n",
              "    <div>\n",
              "<style scoped>\n",
              "    .dataframe tbody tr th:only-of-type {\n",
              "        vertical-align: middle;\n",
              "    }\n",
              "\n",
              "    .dataframe tbody tr th {\n",
              "        vertical-align: top;\n",
              "    }\n",
              "\n",
              "    .dataframe thead th {\n",
              "        text-align: right;\n",
              "    }\n",
              "</style>\n",
              "<table border=\"1\" class=\"dataframe\">\n",
              "  <thead>\n",
              "    <tr style=\"text-align: right;\">\n",
              "      <th></th>\n",
              "      <th>text</th>\n",
              "      <th>proc</th>\n",
              "      <th>label</th>\n",
              "    </tr>\n",
              "  </thead>\n",
              "  <tbody>\n",
              "    <tr>\n",
              "      <th>0</th>\n",
              "      <td>This is by far my favorite K cup. It is a stro...</td>\n",
              "      <td>far favorite cup strong flavorful harsh coffee...</td>\n",
              "      <td>1</td>\n",
              "    </tr>\n",
              "    <tr>\n",
              "      <th>1</th>\n",
              "      <td>OK, I am now READDICTED to SUGAR!  This stuff ...</td>\n",
              "      <td>readdicted sugar stuff much much better silk c...</td>\n",
              "      <td>1</td>\n",
              "    </tr>\n",
              "    <tr>\n",
              "      <th>2</th>\n",
              "      <td>I don't understand how anyone with a pair of t...</td>\n",
              "      <td>understand anyone pair taste bud rub together ...</td>\n",
              "      <td>0</td>\n",
              "    </tr>\n",
              "    <tr>\n",
              "      <th>3</th>\n",
              "      <td>a favorite.....Tetley tea's British decaffeina...</td>\n",
              "      <td>favorite tetley tea british decaffeinated blen...</td>\n",
              "      <td>1</td>\n",
              "    </tr>\n",
              "    <tr>\n",
              "      <th>4</th>\n",
              "      <td>Something about the flavor just isn't right.  ...</td>\n",
              "      <td>something flavor right purchased consumed lot ...</td>\n",
              "      <td>0</td>\n",
              "    </tr>\n",
              "  </tbody>\n",
              "</table>\n",
              "</div>\n",
              "    <div class=\"colab-df-buttons\">\n",
              "\n",
              "  <div class=\"colab-df-container\">\n",
              "    <button class=\"colab-df-convert\" onclick=\"convertToInteractive('df-5d252e5f-87c8-40d1-91b0-ebf3de9433e1')\"\n",
              "            title=\"Convert this dataframe to an interactive table.\"\n",
              "            style=\"display:none;\">\n",
              "\n",
              "  <svg xmlns=\"http://www.w3.org/2000/svg\" height=\"24px\" viewBox=\"0 -960 960 960\">\n",
              "    <path d=\"M120-120v-720h720v720H120Zm60-500h600v-160H180v160Zm220 220h160v-160H400v160Zm0 220h160v-160H400v160ZM180-400h160v-160H180v160Zm440 0h160v-160H620v160ZM180-180h160v-160H180v160Zm440 0h160v-160H620v160Z\"/>\n",
              "  </svg>\n",
              "    </button>\n",
              "\n",
              "  <style>\n",
              "    .colab-df-container {\n",
              "      display:flex;\n",
              "      gap: 12px;\n",
              "    }\n",
              "\n",
              "    .colab-df-convert {\n",
              "      background-color: #E8F0FE;\n",
              "      border: none;\n",
              "      border-radius: 50%;\n",
              "      cursor: pointer;\n",
              "      display: none;\n",
              "      fill: #1967D2;\n",
              "      height: 32px;\n",
              "      padding: 0 0 0 0;\n",
              "      width: 32px;\n",
              "    }\n",
              "\n",
              "    .colab-df-convert:hover {\n",
              "      background-color: #E2EBFA;\n",
              "      box-shadow: 0px 1px 2px rgba(60, 64, 67, 0.3), 0px 1px 3px 1px rgba(60, 64, 67, 0.15);\n",
              "      fill: #174EA6;\n",
              "    }\n",
              "\n",
              "    .colab-df-buttons div {\n",
              "      margin-bottom: 4px;\n",
              "    }\n",
              "\n",
              "    [theme=dark] .colab-df-convert {\n",
              "      background-color: #3B4455;\n",
              "      fill: #D2E3FC;\n",
              "    }\n",
              "\n",
              "    [theme=dark] .colab-df-convert:hover {\n",
              "      background-color: #434B5C;\n",
              "      box-shadow: 0px 1px 3px 1px rgba(0, 0, 0, 0.15);\n",
              "      filter: drop-shadow(0px 1px 2px rgba(0, 0, 0, 0.3));\n",
              "      fill: #FFFFFF;\n",
              "    }\n",
              "  </style>\n",
              "\n",
              "    <script>\n",
              "      const buttonEl =\n",
              "        document.querySelector('#df-5d252e5f-87c8-40d1-91b0-ebf3de9433e1 button.colab-df-convert');\n",
              "      buttonEl.style.display =\n",
              "        google.colab.kernel.accessAllowed ? 'block' : 'none';\n",
              "\n",
              "      async function convertToInteractive(key) {\n",
              "        const element = document.querySelector('#df-5d252e5f-87c8-40d1-91b0-ebf3de9433e1');\n",
              "        const dataTable =\n",
              "          await google.colab.kernel.invokeFunction('convertToInteractive',\n",
              "                                                    [key], {});\n",
              "        if (!dataTable) return;\n",
              "\n",
              "        const docLinkHtml = 'Like what you see? Visit the ' +\n",
              "          '<a target=\"_blank\" href=https://colab.research.google.com/notebooks/data_table.ipynb>data table notebook</a>'\n",
              "          + ' to learn more about interactive tables.';\n",
              "        element.innerHTML = '';\n",
              "        dataTable['output_type'] = 'display_data';\n",
              "        await google.colab.output.renderOutput(dataTable, element);\n",
              "        const docLink = document.createElement('div');\n",
              "        docLink.innerHTML = docLinkHtml;\n",
              "        element.appendChild(docLink);\n",
              "      }\n",
              "    </script>\n",
              "  </div>\n",
              "\n",
              "\n",
              "    <div id=\"df-39068052-e0a7-4f4c-8f2f-b95beae9a31e\">\n",
              "      <button class=\"colab-df-quickchart\" onclick=\"quickchart('df-39068052-e0a7-4f4c-8f2f-b95beae9a31e')\"\n",
              "                title=\"Suggest charts\"\n",
              "                style=\"display:none;\">\n",
              "\n",
              "<svg xmlns=\"http://www.w3.org/2000/svg\" height=\"24px\"viewBox=\"0 0 24 24\"\n",
              "     width=\"24px\">\n",
              "    <g>\n",
              "        <path d=\"M19 3H5c-1.1 0-2 .9-2 2v14c0 1.1.9 2 2 2h14c1.1 0 2-.9 2-2V5c0-1.1-.9-2-2-2zM9 17H7v-7h2v7zm4 0h-2V7h2v10zm4 0h-2v-4h2v4z\"/>\n",
              "    </g>\n",
              "</svg>\n",
              "      </button>\n",
              "\n",
              "<style>\n",
              "  .colab-df-quickchart {\n",
              "      --bg-color: #E8F0FE;\n",
              "      --fill-color: #1967D2;\n",
              "      --hover-bg-color: #E2EBFA;\n",
              "      --hover-fill-color: #174EA6;\n",
              "      --disabled-fill-color: #AAA;\n",
              "      --disabled-bg-color: #DDD;\n",
              "  }\n",
              "\n",
              "  [theme=dark] .colab-df-quickchart {\n",
              "      --bg-color: #3B4455;\n",
              "      --fill-color: #D2E3FC;\n",
              "      --hover-bg-color: #434B5C;\n",
              "      --hover-fill-color: #FFFFFF;\n",
              "      --disabled-bg-color: #3B4455;\n",
              "      --disabled-fill-color: #666;\n",
              "  }\n",
              "\n",
              "  .colab-df-quickchart {\n",
              "    background-color: var(--bg-color);\n",
              "    border: none;\n",
              "    border-radius: 50%;\n",
              "    cursor: pointer;\n",
              "    display: none;\n",
              "    fill: var(--fill-color);\n",
              "    height: 32px;\n",
              "    padding: 0;\n",
              "    width: 32px;\n",
              "  }\n",
              "\n",
              "  .colab-df-quickchart:hover {\n",
              "    background-color: var(--hover-bg-color);\n",
              "    box-shadow: 0 1px 2px rgba(60, 64, 67, 0.3), 0 1px 3px 1px rgba(60, 64, 67, 0.15);\n",
              "    fill: var(--button-hover-fill-color);\n",
              "  }\n",
              "\n",
              "  .colab-df-quickchart-complete:disabled,\n",
              "  .colab-df-quickchart-complete:disabled:hover {\n",
              "    background-color: var(--disabled-bg-color);\n",
              "    fill: var(--disabled-fill-color);\n",
              "    box-shadow: none;\n",
              "  }\n",
              "\n",
              "  .colab-df-spinner {\n",
              "    border: 2px solid var(--fill-color);\n",
              "    border-color: transparent;\n",
              "    border-bottom-color: var(--fill-color);\n",
              "    animation:\n",
              "      spin 1s steps(1) infinite;\n",
              "  }\n",
              "\n",
              "  @keyframes spin {\n",
              "    0% {\n",
              "      border-color: transparent;\n",
              "      border-bottom-color: var(--fill-color);\n",
              "      border-left-color: var(--fill-color);\n",
              "    }\n",
              "    20% {\n",
              "      border-color: transparent;\n",
              "      border-left-color: var(--fill-color);\n",
              "      border-top-color: var(--fill-color);\n",
              "    }\n",
              "    30% {\n",
              "      border-color: transparent;\n",
              "      border-left-color: var(--fill-color);\n",
              "      border-top-color: var(--fill-color);\n",
              "      border-right-color: var(--fill-color);\n",
              "    }\n",
              "    40% {\n",
              "      border-color: transparent;\n",
              "      border-right-color: var(--fill-color);\n",
              "      border-top-color: var(--fill-color);\n",
              "    }\n",
              "    60% {\n",
              "      border-color: transparent;\n",
              "      border-right-color: var(--fill-color);\n",
              "    }\n",
              "    80% {\n",
              "      border-color: transparent;\n",
              "      border-right-color: var(--fill-color);\n",
              "      border-bottom-color: var(--fill-color);\n",
              "    }\n",
              "    90% {\n",
              "      border-color: transparent;\n",
              "      border-bottom-color: var(--fill-color);\n",
              "    }\n",
              "  }\n",
              "</style>\n",
              "\n",
              "      <script>\n",
              "        async function quickchart(key) {\n",
              "          const quickchartButtonEl =\n",
              "            document.querySelector('#' + key + ' button');\n",
              "          quickchartButtonEl.disabled = true;  // To prevent multiple clicks.\n",
              "          quickchartButtonEl.classList.add('colab-df-spinner');\n",
              "          try {\n",
              "            const charts = await google.colab.kernel.invokeFunction(\n",
              "                'suggestCharts', [key], {});\n",
              "          } catch (error) {\n",
              "            console.error('Error during call to suggestCharts:', error);\n",
              "          }\n",
              "          quickchartButtonEl.classList.remove('colab-df-spinner');\n",
              "          quickchartButtonEl.classList.add('colab-df-quickchart-complete');\n",
              "        }\n",
              "        (() => {\n",
              "          let quickchartButtonEl =\n",
              "            document.querySelector('#df-39068052-e0a7-4f4c-8f2f-b95beae9a31e button');\n",
              "          quickchartButtonEl.style.display =\n",
              "            google.colab.kernel.accessAllowed ? 'block' : 'none';\n",
              "        })();\n",
              "      </script>\n",
              "    </div>\n",
              "\n",
              "    </div>\n",
              "  </div>\n"
            ],
            "application/vnd.google.colaboratory.intrinsic+json": {
              "type": "dataframe",
              "variable_name": "df",
              "summary": "{\n  \"name\": \"df\",\n  \"rows\": 71204,\n  \"fields\": [\n    {\n      \"column\": \"text\",\n      \"properties\": {\n        \"dtype\": \"string\",\n        \"num_unique_values\": 63790,\n        \"samples\": [\n          \"very tiny eggs; very salty, strong flavor. good value for the price.<a href=\\\"http://www.amazon.com/gp/product/B000LR4F7Q\\\">Black Capelin Caviar</a>\",\n          \"I never had this candy bar before. I thought it was gonna be a hunk of caramel but its a caramel flavored chocolate bar.  I didnt really like it, but I read lots of good reviews about it. I should have read the description of what it was before I bought it LOL. Live and learn.\",\n          \"Exactly what I ordered and was delivered right on time.  Helped to make the wedding candy buffet Perfect. Loved all the color choices. Grab some for your next color coded event. Thanks\"\n        ],\n        \"semantic_type\": \"\",\n        \"description\": \"\"\n      }\n    },\n    {\n      \"column\": \"proc\",\n      \"properties\": {\n        \"dtype\": \"string\",\n        \"num_unique_values\": 63761,\n        \"samples\": [\n          \"gum zylitol kill germ mouth use eating brush taste great harmful ingredient buy\",\n          \"two year old chihuahua mix vet shared would vigilant health pup teeth greenies help keep dog teeth clean breath fresh best pup love treat\",\n          \"glaze best use everything convenient use add whole new dimension cooking\"\n        ],\n        \"semantic_type\": \"\",\n        \"description\": \"\"\n      }\n    },\n    {\n      \"column\": \"label\",\n      \"properties\": {\n        \"dtype\": \"number\",\n        \"std\": 0,\n        \"min\": 0,\n        \"max\": 1,\n        \"num_unique_values\": 2,\n        \"samples\": [\n          0,\n          1\n        ],\n        \"semantic_type\": \"\",\n        \"description\": \"\"\n      }\n    }\n  ]\n}"
            }
          },
          "metadata": {},
          "execution_count": 5
        }
      ]
    },
    {
      "cell_type": "code",
      "source": [
        "# -----------------------------\n",
        "# 3️⃣ EDA\n",
        "# -----------------------------\n",
        "# Distribution of labels\n",
        "sns.countplot(x='label', data=df)\n",
        "plt.title(\"Sentiment Distribution\")\n",
        "plt.show()"
      ],
      "metadata": {
        "colab": {
          "base_uri": "https://localhost:8080/",
          "height": 472
        },
        "id": "Sdfmw_EDFej9",
        "outputId": "b8664ee7-375c-413a-faa1-764d0099b09a"
      },
      "execution_count": 6,
      "outputs": [
        {
          "output_type": "display_data",
          "data": {
            "text/plain": [
              "<Figure size 640x480 with 1 Axes>"
            ],
            "image/png": "[encoded data removed]"
          },
          "metadata": {}
        }
      ]
    },
    {
      "cell_type": "code",
      "source": [
        "# Review length distribution\n",
        "df['length'] = df['proc'].apply(lambda x: len(x.split()))\n",
        "sns.histplot(df['length'], bins=50)\n",
        "plt.title(\"Review Length Distribution\")\n",
        "plt.show()"
      ],
      "metadata": {
        "colab": {
          "base_uri": "https://localhost:8080/",
          "height": 472
        },
        "id": "07JtUqD8Fh3M",
        "outputId": "5cd10df5-8161-4a79-b9b9-9c2d4573fda1"
      },
      "execution_count": 7,
      "outputs": [
        {
          "output_type": "display_data",
          "data": {
            "text/plain": [
              "<Figure size 640x480 with 1 Axes>"
            ],
            "image/png": "[encoded data removed]"
          },
          "metadata": {}
        }
      ]
    },
    {
      "cell_type": "code",
      "source": [
        "# -----------------------------\n",
        "# 4️⃣ Split Data\n",
        "# -----------------------------\n",
        "X = df['proc'].values\n",
        "y = df['label'].values\n",
        "\n",
        "# Stratified split: train/val/test\n",
        "X_temp, X_test, y_temp, y_test = train_test_split(X, y, test_size=0.2, stratify=y, random_state=42)\n",
        "X_train, X_val, y_train, y_val = train_test_split(X_temp, y_temp, test_size=0.1, stratify=y_temp, random_state=42)\n",
        "\n",
        "print(\"Train/Val/Test sizes:\", len(X_train), len(X_val), len(X_test))"
      ],
      "metadata": {
        "colab": {
          "base_uri": "https://localhost:8080/"
        },
        "id": "qqDKvW_VFlcl",
        "outputId": "bce2f32d-b7e6-44ee-e66c-2db7a5882e73"
      },
      "execution_count": 8,
      "outputs": [
        {
          "output_type": "stream",
          "name": "stdout",
          "text": [
            "Train/Val/Test sizes: 51266 5697 14241\n"
          ]
        }
      ]
    },
    {
      "cell_type": "code",
      "source": [
        "# -----------------------------\n",
        "# 5️⃣ TF-IDF Features (for SVM)\n",
        "# -----------------------------\n",
        "tfidf_vect = TfidfVectorizer(max_features=30000, ngram_range=(1,2), min_df=2, max_df=0.98)\n",
        "X_train_tfidf = tfidf_vect.fit_transform(X_train)\n",
        "X_val_tfidf   = tfidf_vect.transform(X_val)\n",
        "X_test_tfidf  = tfidf_vect.transform(X_test)\n",
        "\n",
        "print(\"TF-IDF shapes:\", X_train_tfidf.shape, X_val_tfidf.shape, X_test_tfidf.shape)"
      ],
      "metadata": {
        "colab": {
          "base_uri": "https://localhost:8080/"
        },
        "id": "l1PWvSsPFrGO",
        "outputId": "70245169-c8f7-4a44-f852-0d41ae5b7987"
      },
      "execution_count": 10,
      "outputs": [
        {
          "output_type": "stream",
          "name": "stdout",
          "text": [
            "TF-IDF shapes: (51266, 30000) (5697, 30000) (14241, 30000)\n"
          ]
        }
      ]
    },
    {
      "cell_type": "code",
      "source": [
        "# -----------------------------\n",
        "# 6️⃣ Traditional ML: SVM\n",
        "# -----------------------------\n",
        "# Experiment table: different kernels & C\n",
        "svm_experiments = [\n",
        "    {'kernel': 'linear', 'C': 1.0},\n",
        "    {'kernel': 'linear', 'C': 0.5},\n",
        "    {'kernel': 'rbf',    'C': 1.0},\n",
        "    {'kernel': 'rbf',    'C': 0.5},\n",
        "]\n",
        "\n",
        "svm_results = []\n",
        "for exp in svm_experiments:\n",
        "    svm = SVC(kernel=exp['kernel'], C=exp['C'], random_state=42)\n",
        "    svm.fit(X_train_tfidf, y_train)\n",
        "    y_val_pred = svm.predict(X_val_tfidf)\n",
        "    acc = accuracy_score(y_val, y_val_pred)\n",
        "    svm_results.append({'kernel': exp['kernel'], 'C': exp['C'], 'val_accuracy': acc})\n",
        "\n",
        "df_svm_results = pd.DataFrame(svm_results)\n",
        "print(\"\\nSVM Experiment Results:\")\n",
        "print(df_svm_results)\n",
        "\n",
        "# Best SVM on test set\n",
        "best_svm = SVC(kernel='linear', C=1.0, random_state=42)\n",
        "best_svm.fit(X_train_tfidf, y_train)\n",
        "y_test_pred_svm = best_svm.predict(X_test_tfidf)\n",
        "print(\"\\nSVM Test Accuracy:\", accuracy_score(y_test, y_test_pred_svm))\n",
        "print(\"\\nSVM Classification Report:\\n\", classification_report(y_test, y_test_pred_svm))\n",
        "\n",
        "# Confusion Matrix\n",
        "cm = confusion_matrix(y_test, y_test_pred_svm)\n",
        "sns.heatmap(cm, annot=True, fmt='d', cmap='Blues')\n",
        "plt.title(\"SVM Confusion Matrix\")\n",
        "plt.xlabel(\"Predicted\")\n",
        "plt.ylabel(\"Actual\")\n",
        "plt.show()"
      ],
      "metadata": {
        "colab": {
          "base_uri": "https://localhost:8080/",
          "height": 819
        },
        "id": "OwvK0q5eFz3O",
        "outputId": "b26496b2-0c4b-4638-993f-400d5428393a"
      },
      "execution_count": 11,
      "outputs": [
        {
          "output_type": "stream",
          "name": "stdout",
          "text": [
            "\n",
            "SVM Experiment Results:\n",
            "   kernel    C  val_accuracy\n",
            "0  linear  1.0      0.929963\n",
            "1  linear  0.5      0.925575\n",
            "2     rbf  1.0      0.928208\n",
            "3     rbf  0.5      0.912410\n",
            "\n",
            "SVM Test Accuracy: 0.9324485640053367\n",
            "\n",
            "SVM Classification Report:\n",
            "               precision    recall  f1-score   support\n",
            "\n",
            "           0       0.86      0.67      0.76      2209\n",
            "           1       0.94      0.98      0.96     12032\n",
            "\n",
            "    accuracy                           0.93     14241\n",
            "   macro avg       0.90      0.83      0.86     14241\n",
            "weighted avg       0.93      0.93      0.93     14241\n",
            "\n"
          ]
        },
        {
          "output_type": "display_data",
          "data": {
            "text/plain": [
              "<Figure size 640x480 with 2 Axes>"
            ],
            "image/png": "[encoded data removed]"
          },
          "metadata": {}
        }
      ]
    }
  ]
}